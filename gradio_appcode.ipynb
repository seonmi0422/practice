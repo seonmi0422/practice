{
  "nbformat": 4,
  "nbformat_minor": 0,
  "metadata": {
    "colab": {
      "private_outputs": true,
      "provenance": [],
      "include_colab_link": true
    },
    "kernelspec": {
      "name": "python3",
      "display_name": "Python 3"
    },
    "language_info": {
      "name": "python"
    }
  },
  "cells": [
    {
      "cell_type": "markdown",
      "metadata": {
        "id": "view-in-github",
        "colab_type": "text"
      },
      "source": [
        "<a href=\"https://colab.research.google.com/github/seonmi0422/practice/blob/main/gradio_appcode.ipynb\" target=\"_parent\"><img src=\"https://colab.research.google.com/assets/colab-badge.svg\" alt=\"Open In Colab\"/></a>"
      ]
    },
    {
      "cell_type": "markdown",
      "source": [
        "# Group quiz: Task #1 (App deployment) & Share the link on Padlet"
      ],
      "metadata": {
        "id": "qBg2sOU9qs0Q"
      }
    },
    {
      "cell_type": "markdown",
      "source": [
        "## 🚩 Instruction for deployment on Huggingface. When deploying, change the code as described below:\n",
        "\n",
        "1. First run the code below to check whether it is working.\n",
        "2. Make a hyperlink of your story (the story assigned to your group) text below the title \"Application\". Currently the link is empty (File not found).\n",
        "=> Use the link \"https://github.com/MK316/Digital-Literacy-Class/blob/main/materials/storytelling.md\"\n",
        "\n",
        "3. [Extra point] Provide a brief description of how the application works for new visitors on your application (learners for example)\n",
        "\n",
        "3. Change the title:\n",
        "\n",
        "+ From \"Application\" to \"Miran's Sentence Reading Application (Group 0)\"\n",
        "=> Change the name to yours.\n",
        "+ Change the icon 🗣️ to something else :-)\n",
        "\n",
        "4. Change the button label:\n",
        "\n",
        "+ From \"Split into Sentences' to \"Show sentence list\"\n",
        "\n",
        "5. When you successfully deploy the app on huggingface, share your link on Padlet. (All members should succeed and post one)\n",
        "Note: The link name should be the app link, not hugggingface address. (Short form of the application link; introduced in the lecture video)\n",
        "\n"
      ],
      "metadata": {
        "id": "T90oiLL7qxZm"
      }
    },
    {
      "cell_type": "markdown",
      "source": [
        "---\n",
        "## Code to use"
      ],
      "metadata": {
        "id": "wzM4Gsg-ssKx"
      }
    },
    {
      "cell_type": "code",
      "execution_count": null,
      "metadata": {
        "id": "_iML17MZb6_l"
      },
      "outputs": [],
      "source": [
        "%%capture\n",
        "!pip install gradio gtts"
      ]
    },
    {
      "cell_type": "code",
      "source": [
        "#@markdown App code\n",
        "import gradio as gr\n",
        "from gtts import gTTS\n",
        "import pandas as pd\n",
        "import re\n",
        "from io import BytesIO\n",
        "\n",
        "def split_text_to_sentences(text):\n",
        "    sentences = re.split(r'(?<!\\w\\.\\w.)(?<![A-Z][a.z])(?<=\\.|\\?)\\s', text)\n",
        "    sentences = [sentence.strip() for sentence in sentences if sentence.strip()]\n",
        "    df = pd.DataFrame({'Index': range(1, len(sentences)+1), 'Sentences': sentences})\n",
        "    return df\n",
        "\n",
        "def generate_audio(sentence_number, df):\n",
        "    try:\n",
        "        sentence_number = int(sentence_number)\n",
        "        if sentence_number in df['Index'].values:\n",
        "            selected_sentence = df.loc[df['Index'] == sentence_number, 'Sentences'].values[0]\n",
        "            tts = gTTS(text=selected_sentence, lang='en')\n",
        "            audio_fp = BytesIO()\n",
        "            tts.write_to_fp(audio_fp)\n",
        "            audio_fp.seek(0)\n",
        "            return audio_fp.getvalue(), selected_sentence  # 👈 Return the sentence itself\n",
        "        else:\n",
        "            return None, \"⚠️ Invalid sentence index.\"\n",
        "    except ValueError:\n",
        "        return None, \"⚠️ Please enter a number.\"\n",
        "\n",
        "with gr.Blocks() as app:\n",
        "    gr.Markdown(\"#  ❤️Seonmi's Sentence Reading Application(Group3)\")\n",
        "    gr.Markdown(\"function 1:separate all the sentences written within a paragraph and assigns them order-based numbers,function 2: of the app will convert the selected sentence into audio\")\n",
        "    gr.Markdown(\"🍋[Story sample](https://github.com/thelighterside/Practice/blob/main/Story03.md)\")\n",
        "    text_input = gr.Textbox(label=\"Enter Text\", lines=4, placeholder=\"Paste or type your text here\")\n",
        "    process_button = gr.Button(\"Split into Sentences\")\n",
        "    sentences_output = gr.Dataframe()\n",
        "    sentence_number_input = gr.Textbox(label=\"Enter Sentence Index\", placeholder=\"e.g., 1\")\n",
        "    generate_audio_button = gr.Button(\"Generate Audio\")\n",
        "\n",
        "    message_output = gr.Label(label=\"Label\")\n",
        "    audio_output = gr.Audio()\n",
        "\n",
        "    def process_text(text):\n",
        "        return split_text_to_sentences(text)\n",
        "\n",
        "\n",
        "    def handle_audio_generation(sentence_number, df):\n",
        "        audio, message = generate_audio(sentence_number, df)\n",
        "        return audio, message\n",
        "\n",
        "    process_button.click(\n",
        "        fn=process_text,\n",
        "        inputs=text_input,\n",
        "        outputs=sentences_output\n",
        "    )\n",
        "\n",
        "    generate_audio_button.click(\n",
        "        fn=handle_audio_generation,\n",
        "        inputs=[sentence_number_input, sentences_output],\n",
        "        outputs=[audio_output, message_output]\n",
        "    )\n",
        "\n",
        "app.launch()\n"
      ],
      "metadata": {
        "id": "Bva0DLMfo_2k"
      },
      "execution_count": null,
      "outputs": []
    }
  ]
}